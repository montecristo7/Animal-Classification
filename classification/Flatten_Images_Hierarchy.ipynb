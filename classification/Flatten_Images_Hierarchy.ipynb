{
 "cells": [
  {
   "cell_type": "code",
   "execution_count": 1,
   "metadata": {},
   "outputs": [],
   "source": [
    "import os\n",
    "import re \n",
    "import shutil"
   ]
  },
  {
   "cell_type": "code",
   "execution_count": 2,
   "metadata": {},
   "outputs": [],
   "source": [
    "raw_folder = '../data/'\n",
    "target_image_folder = './images'\n",
    "target_video_folder = './videos'\n",
    "\n",
    "if not os.path.exists(target_image_folder):\n",
    "    os.makedirs(target_image_folder)\n",
    "    \n",
    "if not os.path.exists(target_video_folder):\n",
    "    os.makedirs(target_video_folder)"
   ]
  },
  {
   "cell_type": "code",
   "execution_count": 3,
   "metadata": {},
   "outputs": [],
   "source": [
    "folder_hierachy = list(os.walk(raw_folder))\n",
    "\n",
    "list_of_animals = sorted(list(set([ii for i in folder_hierachy for ii in i[1]  if not i[2] and ii.isalpha()])))\n",
    "list_of_cameras = folder_hierachy[0][1]"
   ]
  },
  {
   "cell_type": "code",
   "execution_count": 4,
   "metadata": {},
   "outputs": [],
   "source": [
    "img_idx = 1\n",
    "video_idx = 1\n",
    "for root, sub_folder, files in folder_hierachy:\n",
    "    if files:\n",
    "        root_split = re.split(r'\\/|\\\\', root)\n",
    "        animal = [i for i in root_split if i in list_of_animals]\n",
    "        camera = [i for i in root_split if i in list_of_cameras]\n",
    "        if animal[0] and camera[0]:\n",
    "            for file in files:\n",
    "                if file.lower().endswith('.jpg') or file.lower().endswith('.jpeg'):\n",
    "                    shutil.copy('{}/{}'.format(root, file), '{}/{}_{}_{}.jpg'.format(target_image_folder, animal[0], camera[0], img_idx))\n",
    "                    img_idx += 1\n",
    "                elif file.lower().endswith('.mp4'):\n",
    "                    shutil.copy('{}/{}'.format(root, file), '{}/{}_{}_{}.mp4'.format(target_video_folder, animal[0], camera[0], video_idx))\n",
    "                    video_idx += 1\n",
    "                elif file.lower().endswith('.csv'):\n",
    "                    pass"
   ]
  },
  {
   "cell_type": "code",
   "execution_count": null,
   "metadata": {},
   "outputs": [],
   "source": []
  }
 ],
 "metadata": {
  "kernelspec": {
   "display_name": "Python 3",
   "language": "python",
   "name": "python3"
  },
  "language_info": {
   "codemirror_mode": {
    "name": "ipython",
    "version": 3
   },
   "file_extension": ".py",
   "mimetype": "text/x-python",
   "name": "python",
   "nbconvert_exporter": "python",
   "pygments_lexer": "ipython3",
   "version": "3.7.4"
  }
 },
 "nbformat": 4,
 "nbformat_minor": 4
}
