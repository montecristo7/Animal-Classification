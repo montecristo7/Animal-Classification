{
 "cells": [
  {
   "cell_type": "code",
   "execution_count": 1,
   "metadata": {},
   "outputs": [],
   "source": [
    "import pandas as pd"
   ]
  },
  {
   "cell_type": "code",
   "execution_count": 4,
   "metadata": {},
   "outputs": [],
   "source": [
    "image_category = pd.read_csv('brazil_amld.csv')"
   ]
  },
  {
   "cell_type": "code",
   "execution_count": 19,
   "metadata": {},
   "outputs": [],
   "source": [
    "image_category = image_category[image_category.file_type == 'jpg']"
   ]
  },
  {
   "cell_type": "code",
   "execution_count": 28,
   "metadata": {},
   "outputs": [],
   "source": [
    "cateory = image_category[['species','species_new', 'species_binary', 'genus', 'family', 'order', 'class']]"
   ]
  },
  {
   "cell_type": "code",
   "execution_count": 29,
   "metadata": {},
   "outputs": [
    {
     "data": {
      "text/plain": [
       "(1454, 7)"
      ]
     },
     "execution_count": 29,
     "metadata": {},
     "output_type": "execute_result"
    }
   ],
   "source": [
    "cateory.shape"
   ]
  },
  {
   "cell_type": "code",
   "execution_count": 32,
   "metadata": {},
   "outputs": [],
   "source": [
    "cateory = cateory.drop_duplicates()"
   ]
  },
  {
   "cell_type": "code",
   "execution_count": 34,
   "metadata": {},
   "outputs": [
    {
     "data": {
      "text/html": [
       "<div>\n",
       "<style scoped>\n",
       "    .dataframe tbody tr th:only-of-type {\n",
       "        vertical-align: middle;\n",
       "    }\n",
       "\n",
       "    .dataframe tbody tr th {\n",
       "        vertical-align: top;\n",
       "    }\n",
       "\n",
       "    .dataframe thead th {\n",
       "        text-align: right;\n",
       "    }\n",
       "</style>\n",
       "<table border=\"1\" class=\"dataframe\">\n",
       "  <thead>\n",
       "    <tr style=\"text-align: right;\">\n",
       "      <th></th>\n",
       "      <th>species</th>\n",
       "      <th>species_new</th>\n",
       "      <th>species_binary</th>\n",
       "      <th>genus</th>\n",
       "      <th>family</th>\n",
       "      <th>order</th>\n",
       "      <th>class</th>\n",
       "    </tr>\n",
       "  </thead>\n",
       "  <tbody>\n",
       "    <tr>\n",
       "      <th>0</th>\n",
       "      <td>Guerlinguetus</td>\n",
       "      <td>SciurusGuerlinguetus</td>\n",
       "      <td>Animal</td>\n",
       "      <td>Sciurus</td>\n",
       "      <td>Sciuridae</td>\n",
       "      <td>Rodentia</td>\n",
       "      <td>Mammalia</td>\n",
       "    </tr>\n",
       "    <tr>\n",
       "      <th>27</th>\n",
       "      <td>MarmosopsIncanus</td>\n",
       "      <td>MarmosopsIncanus</td>\n",
       "      <td>Animal</td>\n",
       "      <td>Marmosops</td>\n",
       "      <td>Didelphidae</td>\n",
       "      <td>Didelphimorphia</td>\n",
       "      <td>Mammalia</td>\n",
       "    </tr>\n",
       "    <tr>\n",
       "      <th>35</th>\n",
       "      <td>Ghost</td>\n",
       "      <td>Ghost</td>\n",
       "      <td>Ghost</td>\n",
       "      <td>Ghost</td>\n",
       "      <td>Ghost</td>\n",
       "      <td>Ghost</td>\n",
       "      <td>Ghost</td>\n",
       "    </tr>\n",
       "    <tr>\n",
       "      <th>48</th>\n",
       "      <td>LeopardusWiedii</td>\n",
       "      <td>LeopardusWiedii</td>\n",
       "      <td>Animal</td>\n",
       "      <td>Leopardus</td>\n",
       "      <td>Felidae</td>\n",
       "      <td>Carnivora</td>\n",
       "      <td>Mammalia</td>\n",
       "    </tr>\n",
       "    <tr>\n",
       "      <th>64</th>\n",
       "      <td>Bird</td>\n",
       "      <td>Aves</td>\n",
       "      <td>Animal</td>\n",
       "      <td>Aves</td>\n",
       "      <td>Aves</td>\n",
       "      <td>Aves</td>\n",
       "      <td>Aves</td>\n",
       "    </tr>\n",
       "  </tbody>\n",
       "</table>\n",
       "</div>"
      ],
      "text/plain": [
       "             species           species_new species_binary      genus  \\\n",
       "0      Guerlinguetus  SciurusGuerlinguetus         Animal    Sciurus   \n",
       "27  MarmosopsIncanus      MarmosopsIncanus         Animal  Marmosops   \n",
       "35             Ghost                 Ghost          Ghost      Ghost   \n",
       "48   LeopardusWiedii       LeopardusWiedii         Animal  Leopardus   \n",
       "64              Bird                  Aves         Animal       Aves   \n",
       "\n",
       "         family            order     class  \n",
       "0     Sciuridae         Rodentia  Mammalia  \n",
       "27  Didelphidae  Didelphimorphia  Mammalia  \n",
       "35        Ghost            Ghost     Ghost  \n",
       "48      Felidae        Carnivora  Mammalia  \n",
       "64         Aves             Aves      Aves  "
      ]
     },
     "execution_count": 34,
     "metadata": {},
     "output_type": "execute_result"
    }
   ],
   "source": [
    "cateory.head()"
   ]
  },
  {
   "cell_type": "code",
   "execution_count": 36,
   "metadata": {},
   "outputs": [],
   "source": [
    "a = cateory.iloc[0]"
   ]
  },
  {
   "cell_type": "code",
   "execution_count": 45,
   "metadata": {},
   "outputs": [
    {
     "data": {
      "text/plain": [
       "{'SciurusGuerlinguetus': 'Animal',\n",
       " 'MarmosopsIncanus': 'Animal',\n",
       " 'Ghost': 'Ghost',\n",
       " 'LeopardusWiedii': 'Animal',\n",
       " 'Aves': 'Animal',\n",
       " 'CabassousTatouay': 'Animal',\n",
       " 'MetachirusNudicaudatusMyosuros': 'Animal',\n",
       " 'DidelphisAurita': 'Animal',\n",
       " 'CaluromysPhilander': 'Animal',\n",
       " 'PenelopeSuperciliaris': 'Animal',\n",
       " 'TamanduaTetradactyla': 'Animal',\n",
       " 'SalvatorMerianae': 'Animal',\n",
       " 'Unknown': 'Exclude',\n",
       " 'LeptotilaRufaxilla': 'Animal',\n",
       " 'EuphractusSexcinctus': 'Animal',\n",
       " 'CerdocyonThous': 'Animal',\n",
       " 'Human': 'Exclude',\n",
       " 'CuniculusPaca': 'Animal',\n",
       " 'ProcyonCancrivorus': 'Animal',\n",
       " 'CanisLupusFamiliaris': 'Animal',\n",
       " 'Rodentia': 'Animal',\n",
       " 'DasypusNovemcinctus': 'Animal',\n",
       " 'LeopardusPardalis': 'Animal',\n",
       " 'NasuaNasua': 'Animal',\n",
       " 'EiraBarbara': 'Animal'}"
      ]
     },
     "execution_count": 45,
     "metadata": {},
     "output_type": "execute_result"
    }
   ],
   "source": [
    "cateory.set_index('species_new').to_dict()['species_binary']"
   ]
  },
  {
   "cell_type": "code",
   "execution_count": null,
   "metadata": {},
   "outputs": [],
   "source": []
  }
 ],
 "metadata": {
  "kernelspec": {
   "display_name": "Python 3",
   "language": "python",
   "name": "python3"
  },
  "language_info": {
   "codemirror_mode": {
    "name": "ipython",
    "version": 3
   },
   "file_extension": ".py",
   "mimetype": "text/x-python",
   "name": "python",
   "nbconvert_exporter": "python",
   "pygments_lexer": "ipython3",
   "version": "3.7.4"
  }
 },
 "nbformat": 4,
 "nbformat_minor": 4
}
