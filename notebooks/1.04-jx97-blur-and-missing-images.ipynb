{
 "cells": [
  {
   "cell_type": "markdown",
   "metadata": {},
   "source": [
    "# Review Blur and Missing"
   ]
  },
  {
   "cell_type": "code",
   "execution_count": 1,
   "metadata": {},
   "outputs": [],
   "source": [
    "# import libraries\n",
    "import os, zipfile\n",
    "import shutil\n",
    "import pandas as pd\n",
    "import numpy as np\n",
    "from sklearn.model_selection import train_test_split, StratifiedKFold\n",
    "import matplotlib.pyplot as plt"
   ]
  },
  {
   "cell_type": "code",
   "execution_count": 2,
   "metadata": {},
   "outputs": [],
   "source": [
    "# set directories\n",
    "os.chdir(\"../\") # change current working directory to root directory of project\n",
    "interim = \"./data/interim\"\n",
    "brazil_raw = \"./data/raw/brazil\"\n",
    "ecuador_raw = \"./data/raw/ecuador\"\n",
    "sumatra_raw = \"./data/raw/sumatra\""
   ]
  },
  {
   "cell_type": "code",
   "execution_count": 3,
   "metadata": {},
   "outputs": [],
   "source": [
    "pd.options.display.max_rows = 2000\n",
    "pd.options.display.max_columns = 100"
   ]
  },
  {
   "cell_type": "markdown",
   "metadata": {},
   "source": [
    "## Blur"
   ]
  },
  {
   "cell_type": "code",
   "execution_count": 4,
   "metadata": {},
   "outputs": [],
   "source": [
    "df_dataset2 = pd.read_csv(\"./data/processed/image_detection/dataset02/dataset02.csv\", dtype=str,keep_default_na=False)"
   ]
  },
  {
   "cell_type": "code",
   "execution_count": null,
   "metadata": {},
   "outputs": [],
   "source": [
    "blur_images = df_dataset2[(df_dataset2[\"species_binary\"]==\"Animal\") \n",
    "            & ~(df_dataset2[\"species_label\"].str.split(\"-\").str[1].isna())].drop_duplicates(\n",
    "    subset=['image_id'])['file_name_new']"
   ]
  },
  {
   "cell_type": "code",
   "execution_count": null,
   "metadata": {},
   "outputs": [],
   "source": [
    "for file in blur_images:\n",
    "    tvt = file.split(\"_\")[0]\n",
    "    file_name = \"_\".join(file.split(\"_\")[1:])\n",
    "    shutil.copyfile(f\"./data/interim/image/{tvt}/{file}\" , \n",
    "                    \"./data/to_annotate/to_review/blur/\" + file_name)"
   ]
  },
  {
   "cell_type": "markdown",
   "metadata": {},
   "source": [
    "## Missing"
   ]
  },
  {
   "cell_type": "code",
   "execution_count": 5,
   "metadata": {},
   "outputs": [],
   "source": [
    "import json"
   ]
  },
  {
   "cell_type": "code",
   "execution_count": 6,
   "metadata": {},
   "outputs": [],
   "source": [
    "json_path = \"./data/to_annotate/image/annotation/\""
   ]
  },
  {
   "cell_type": "code",
   "execution_count": null,
   "metadata": {},
   "outputs": [],
   "source": [
    "count = 0\n",
    "for file in os.listdir(json_path):\n",
    "    with open(json_path + file) as json_file:\n",
    "        data = json.load(json_file)\n",
    "        if data['objects'] == [] and \"Ghost\" not in file:\n",
    "            image_file = file[:-5]\n",
    "            shutil.copyfile(\"./data/to_annotate/image/image/\" + image_file , \n",
    "                            \"./data/to_annotate/to_review/missing/\" + image_file)\n",
    "            count += 1"
   ]
  }
 ],
 "metadata": {
  "kernelspec": {
   "display_name": "Python 3",
   "language": "python",
   "name": "python3"
  },
  "language_info": {
   "codemirror_mode": {
    "name": "ipython",
    "version": 3
   },
   "file_extension": ".py",
   "mimetype": "text/x-python",
   "name": "python",
   "nbconvert_exporter": "python",
   "pygments_lexer": "ipython3",
   "version": "3.7.9"
  }
 },
 "nbformat": 4,
 "nbformat_minor": 4
}
