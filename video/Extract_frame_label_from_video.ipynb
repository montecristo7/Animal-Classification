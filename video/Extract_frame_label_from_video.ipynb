{
 "cells": [
  {
   "cell_type": "markdown",
   "metadata": {},
   "source": [
    " This file extracts frames from video that has an annotated bounding box and creating a new json file as \n",
    " new labels for each frame. \n",
    "\n",
    "### inputs files:\n",
    "1. data_interim_annotate_video.xlsx: providing all informations needed to put into label files except the bounding box\n",
    "2. video.json: exported from supervisely containing inforamtion of bounding box of each frame\n",
    "3. original video file\n",
    "\n",
    "### outputs:\n",
    "- Folder 1 contains:\n",
    "    label.json: containing all relatively infos from data_interim_annotate_video.xlsx + bounding box\n",
    "- Folder 2 contains:\n",
    "    frame.jpg: individual frame with a bounding box annotation from video \n"
   ]
  },
  {
   "cell_type": "markdown",
   "metadata": {},
   "source": [
    "## RUN ONLY ONCE"
   ]
  },
  {
   "cell_type": "code",
   "execution_count": 63,
   "metadata": {},
   "outputs": [
    {
     "name": "stdout",
     "output_type": "stream",
     "text": [
      "Collecting objectpath\n",
      "  Downloading objectpath-0.6.1-py2.py3-none-any.whl (20 kB)\n",
      "Installing collected packages: objectpath\n",
      "Successfully installed objectpath-0.6.1\n",
      "\u001b[33mWARNING: You are using pip version 20.2.4; however, version 21.0 is available.\n",
      "You should consider upgrading via the '/Users/xinwen/opt/anaconda3/bin/python3 -m pip install --upgrade pip' command.\u001b[0m\n"
     ]
    }
   ],
   "source": [
    "# uncomment below to install objectpath module in the anaconda environment\n",
    "#! python3 -m pip install objectpath"
   ]
  },
  {
   "cell_type": "code",
   "execution_count": 294,
   "metadata": {},
   "outputs": [],
   "source": [
    "# create new label and new image folder for the FIRST TIME ONLY\n",
    "try:\n",
    "    os.makedirs(f'{rootdir}/new_label')\n",
    "    os.makedirs(f'{rootdir}/new_image')\n",
    "except OSError as e:\n",
    "    if e.errno != errno.EEXIST:\n",
    "        raise"
   ]
  },
  {
   "cell_type": "code",
   "execution_count": null,
   "metadata": {},
   "outputs": [],
   "source": [
    "# import libraries\n",
    "import cv2\n",
    "import os\n",
    "import json\n",
    "import pandas as pd\n",
    "import re\n",
    "import objectpath\n",
    "import numpy as np"
   ]
  },
  {
   "cell_type": "code",
   "execution_count": 295,
   "metadata": {},
   "outputs": [],
   "source": [
    "# define universe variable\n",
    "rootdir = \"/Users/xinwen/Desktop/video\"\n",
    "video_summary = \"data_interim_annotate_video.xlsx\"\n",
    "\n",
    "\n",
    "def read_excel(summary,video):\n",
    "    ''' input: summary: video summary excel sheet\n",
    "               video: video file name\n",
    "        output: one row dataframe containing the video's info \n",
    "    '''\n",
    "    return pd.read_excel(rootdir+'/'+summary).loc[df.file_name_new == video]\n",
    "\n",
    "\n",
    "def get_info_from_json(path):\n",
    "    '''input: path: video label file path (.json)\n",
    "       output: a list of frame number and a matching list of bounding boxes for each frame\n",
    "               (some frame might have multiple bounding box annotations)\n",
    "    '''\n",
    "    with open(path) as f:\n",
    "        data = json.load(f)\n",
    "        label_info = objectpath.Tree(data)\n",
    "        frame_num = list(label_info.execute('$.frames.index'))\n",
    "        frame_info = list(label_info.execute('$.frames.*exterior'))\n",
    "        bbox = []\n",
    "        for x in frame_info: # each frame\n",
    "            bbox.append([y['geometry']['points']['exterior'] for y in x['figures']])  \n",
    "        return frame_num,bbox\n",
    "\n",
    "def create_new_json(bbox,summary,video):\n",
    "    '''input: bbox: bbox from get_info_from_json(path)\n",
    "              summary: result from read_excel()\n",
    "              video: video file name\n",
    "       output: create new json file for each annotated frame\n",
    "    '''\n",
    "    for i in range(0,len(bbox)): \n",
    "        data = {}\n",
    "        data['bbox'] = bbox[i]\n",
    "        for j in list(summary):\n",
    "            if type(summary.iloc[0][j])in (np.float64,np.int64):\n",
    "                if np.isnan(summary.iloc[0][j]) :\n",
    "                    data[f'{j}'] = \"\"\n",
    "                else:\n",
    "                    data[f'{j}'] = int(summary.iloc[0][j])\n",
    "            else:\n",
    "                data[f'{j}'] = summary.iloc[0][j]\n",
    "        with open(rootdir+f'/new_label/{video}_{i}.json','w') as outfile:\n",
    "            json.dump(data,outfile)\n",
    "\n"
   ]
  },
  {
   "cell_type": "code",
   "execution_count": 298,
   "metadata": {},
   "outputs": [],
   "source": [
    "def cropFrame(video,frame_list):\n",
    "    \"\"\" Input: video: video file name\n",
    "               frame_list: frame_num from get_info_from_json(path)\n",
    "        Output: crop frames according to frame_list for each video\n",
    "    \"\"\"\n",
    "    vidcap = cv2.VideoCapture(video)\n",
    "    for i in frame_list:\n",
    "        vidcap.set(1,i)\n",
    "        hasFrames,image = vidcap.read()\n",
    "        sucess = hasFrames\n",
    "        if sucess:\n",
    "            cv2.imwrite(f'new_image/{video}_{i}.jpg', image)\n",
    "\n",
    "            \n",
    "def generate_image_from_video():\n",
    "    \"\"\" output: for each video in the folder\n",
    "                    1.get the corresponding frame number and bounding box\n",
    "                    2.extract the frames from the video\n",
    "                    3.get all infos of the video from video_summary xlsx\n",
    "                    4.create new json label for each extracted frames\n",
    "    \"\"\"\n",
    "    for filename in os.listdir(rootdir):\n",
    "        if filename.endswith(\".mp4\"):\n",
    "            fn,bb = get_info_from_json(f\"{rootdir}/{filename}.json\") #1\n",
    "            cropFrame(filename,fn)#2\n",
    "            attributes = read_excel(video_summary,filename)#3\n",
    "            create_new_json(bb,attributes,filename)#4\n",
    "            \n"
   ]
  },
  {
   "cell_type": "code",
   "execution_count": 301,
   "metadata": {},
   "outputs": [],
   "source": [
    "# crop frames\n",
    "generate_image_from_video() "
   ]
  },
  {
   "cell_type": "code",
   "execution_count": null,
   "metadata": {},
   "outputs": [],
   "source": []
  }
 ],
 "metadata": {
  "kernelspec": {
   "display_name": "Python 3",
   "language": "python",
   "name": "python3"
  },
  "language_info": {
   "codemirror_mode": {
    "name": "ipython",
    "version": 3
   },
   "file_extension": ".py",
   "mimetype": "text/x-python",
   "name": "python",
   "nbconvert_exporter": "python",
   "pygments_lexer": "ipython3",
   "version": "3.7.6"
  }
 },
 "nbformat": 4,
 "nbformat_minor": 4
}
