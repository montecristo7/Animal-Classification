{
 "cells": [
  {
   "cell_type": "markdown",
   "metadata": {},
   "source": [
    " This file extracts frames from video that has an annotated bounding box and creating a new json file as \n",
    " new labels for each frame. \n",
    "\n",
    "### inputs files:\n",
    "1. data_interim_annotate_video.xlsx: providing all informations needed to put into label files except the bounding box\n",
    "2. video.json: exported from supervisely containing inforamtion of bounding box of each frame\n",
    "3. original video file\n",
    "4. species_list.xlsx: provided by saving nature with all class, order,family, genus info of species\n",
    "\n",
    "### outputs:\n",
    "- Folder 1 contains:\n",
    "    label.json: containing all relatively infos from data_interim_annotate_video.xlsx + supervisely json\n",
    "- Folder 2 contains:\n",
    "    frame.jpg: individual frame with a bounding box annotation from video \n"
   ]
  },
  {
   "cell_type": "markdown",
   "metadata": {},
   "source": [
    "## RUN ONLY ONCE"
   ]
  },
  {
   "cell_type": "code",
   "execution_count": 1,
   "metadata": {},
   "outputs": [],
   "source": [
    "# uncomment below to install objectpath module in the anaconda environment\n",
    "#! python3 -m pip install objectpath"
   ]
  },
  {
   "cell_type": "code",
   "execution_count": 32,
   "metadata": {},
   "outputs": [],
   "source": [
    "# import libraries\n",
    "import cv2\n",
    "import os\n",
    "import json\n",
    "import pandas as pd\n",
    "import re\n",
    "import objectpath\n",
    "import numpy as np\n",
    "import difflib"
   ]
  },
  {
   "cell_type": "code",
   "execution_count": 33,
   "metadata": {},
   "outputs": [],
   "source": [
    "########### define universe variable ###########\n",
    "rootdir = \"/Users/xinwen/Desktop/Capstone\"\n",
    "video_summary = \"data_interim_annotate_video.xlsx\"\n",
    "\n",
    "# a list contains species, scientific name and common name\n",
    "df = pd.read_excel(rootdir+\"/species_list.xlsx\",usecols=\"C:F,H,J,K\")\n",
    "df.drop_duplicates()\n",
    "sp_list = list(df['Species'].apply(lambda x: x if (np.all(pd.notnull(x))) else \" \")) + list(df['Scientific Name'].apply(lambda x: x if (np.all(pd.notnull(x))) else \" \"))+ list(df['Common Name'].apply(lambda x: x if (np.all(pd.notnull(x))) else \" \"))\n"
   ]
  },
  {
   "cell_type": "code",
   "execution_count": 72,
   "metadata": {},
   "outputs": [],
   "source": [
    "# create new label and new image folder for the FIRST TIME ONLY\n",
    "try:\n",
    "    os.makedirs(f'{rootdir}/new_label')\n",
    "    os.makedirs(f'{rootdir}/new_image')\n",
    "except OSError as e:\n",
    "    raise"
   ]
  },
  {
   "cell_type": "code",
   "execution_count": 73,
   "metadata": {},
   "outputs": [],
   "source": [
    "def metadata_by_row(summary,video,data):\n",
    "    ''' input: summary: video summary excel sheet\n",
    "               video: video file name\n",
    "               data: dictionary holds info for json creation\n",
    "        output: data with all necessary metadata from summary exel \n",
    "    '''\n",
    "    df = pd.read_excel(rootdir+'/'+summary,usecols=\"A:E,H:Q,T:V\")\n",
    "    row = df.loc[df.file_name_new == video]\n",
    "    for j in list(row):\n",
    "        if type(row.iloc[0][j])in (np.float64,np.int64):\n",
    "            if np.isnan(row.iloc[0][j]) :\n",
    "                data[f'{j}'] = \"\"\n",
    "            else:\n",
    "                data[f'{j}'] = int(row.iloc[0][j])\n",
    "        else:\n",
    "            data[f'{j}'] = row.iloc[0][j]\n",
    "    return data\n",
    "\n",
    "\n",
    "def frame_numbers(path):\n",
    "    '''input: path: supervisely json file\n",
    "       output: a list of frame number\n",
    "    '''\n",
    "    with open(path) as f:\n",
    "        data = json.load(f)\n",
    "        label_info = objectpath.Tree(data)\n",
    "        frame_num = list(label_info.execute('$.frames.index'))\n",
    "        return frame_num\n",
    "\n",
    "    \n",
    "def create_new_json(summary,video):\n",
    "    '''input: summary: video summary excel sheet created by JY\n",
    "              video: video file name\n",
    "       output: create new json file for each annotated frame\n",
    "    '''\n",
    "    # read in the supervisely json file\n",
    "    with open(f\"{rootdir}/labels/{video}.json\") as f:\n",
    "        data = json.load(f)\n",
    "        label_info = objectpath.Tree(data)\n",
    "        \n",
    "        \n",
    "        objects = list(label_info.execute('$.objects')) # list of species \n",
    "        frames = list(label_info.execute('$.frames'))  # list of frames\n",
    "        \n",
    "        # create a new json for every frame\n",
    "        for f in frames:\n",
    "            dataNew = {}\n",
    "            each_obj = []\n",
    "            dataNew['description'] = data['description']\n",
    "            dataNew['tags'] = data['tags']\n",
    "            dataNew['size'] = data['size']\n",
    "            \n",
    "            animal_count = 0\n",
    "            for i in f['figures']:\n",
    "                sp_name  = [a for a in objects for k,v in a.items() if v == i['objectKey']][0]['classTitle']\n",
    "                sp_name = re.sub(r\"(\\w)([A-Z])\", r\"\\1 \\2\", sp_name)\n",
    "                obj = {'species':sp_name}\n",
    "                \n",
    "                # insert the class, order,family and genus from species_list.xlsx\n",
    "                correct_match = difflib.get_close_matches(sp_name,sp_list)\n",
    "                if correct_match:\n",
    "                    temp = df[df.isin([correct_match[0]]).any(axis=1)].iloc[0,:4]\n",
    "                    for colname,value in zip(temp.index,temp):\n",
    "                        obj[colname] = value\n",
    "                else:\n",
    "                    # hard coding when cannot find the species \n",
    "                    obj['Class'] = \"\"; obj['Order'] = \"\"; obj['Family'] = \"\"; obj['Genus'] = \"\"\n",
    "                    \n",
    "                # insert bounding box infos\n",
    "                for k,v in i.items():\n",
    "                    if k == \"geometry\":\n",
    "                        for k1,v1 in v.items():\n",
    "                            obj[k1]=v1\n",
    "                    else:\n",
    "                        obj[k]=v\n",
    "                each_obj.append(obj)\n",
    "                dataNew['objects'] = each_obj\n",
    "                animal_count += 1\n",
    "            dataNew['num_animal'] = animal_count\n",
    "            \n",
    "            metadata_by_row(summary,video,dataNew)\n",
    "            \n",
    "            with open(rootdir+f\"/new_label/{video[:-4]}_{f['index']}.json\",'w') as outfile:\n",
    "                json.dump(dataNew,outfile,indent = 4)\n"
   ]
  },
  {
   "cell_type": "code",
   "execution_count": 78,
   "metadata": {},
   "outputs": [],
   "source": [
    "def cropFrame(video,frame_list):\n",
    "    \"\"\" Input: video: video file name\n",
    "               frame_list: frame_num from frame_numbers(path)\n",
    "        Output: crop frames according to frame_list for each video\n",
    "    \"\"\"\n",
    "    vidcap = cv2.VideoCapture(video)\n",
    "    for i in frame_list:\n",
    "        vidcap.set(1,i)\n",
    "        hasFrames,image = vidcap.read()\n",
    "        sucess = hasFrames\n",
    "        if sucess:\n",
    "            print(\"sucess!!!!\")\n",
    "            cv2.imwrite(f'{video}_{i}.jpg', image)\n",
    "\n",
    "            \n",
    "def generate_image_from_video():\n",
    "    \"\"\" output: for each video in the folder\n",
    "                    1.get the corresponding frame number and bounding box\n",
    "                    2.extract the frames from the video\n",
    "                    3.get all infos of the video from video_summary xlsx\n",
    "                    4.create new json label for each extracted frames\n",
    "    \"\"\"\n",
    "    for filename in os.listdir(rootdir):\n",
    "        if filename.endswith(\".mp4\"):\n",
    "            fn = frame_numbers(f\"{rootdir}/labels/{filename}.json\") #1\n",
    "            cropFrame(f\"{rootdir}/videos/{filename}\",fn)#2\n",
    "            create_new_json(video_summary,filename)#4\n",
    "            \n"
   ]
  },
  {
   "cell_type": "code",
   "execution_count": 79,
   "metadata": {},
   "outputs": [
    {
     "name": "stdout",
     "output_type": "stream",
     "text": [
      "0050_brazilAMLD_CT01_Ghost_01_08110020.mp4\n",
      "0000_brazilAMLD_SSAMLD2_2_Guerlinguetus_01_2019_10_14_08_52_18.mp4\n",
      "sucess!!!!\n",
      "sucess!!!!\n"
     ]
    }
   ],
   "source": [
    "# crop frames\n",
    "generate_image_from_video() "
   ]
  },
  {
   "cell_type": "code",
   "execution_count": null,
   "metadata": {},
   "outputs": [],
   "source": []
  }
 ],
 "metadata": {
  "kernelspec": {
   "display_name": "Python 3",
   "language": "python",
   "name": "python3"
  },
  "language_info": {
   "codemirror_mode": {
    "name": "ipython",
    "version": 3
   },
   "file_extension": ".py",
   "mimetype": "text/x-python",
   "name": "python",
   "nbconvert_exporter": "python",
   "pygments_lexer": "ipython3",
   "version": "3.7.6"
  }
 },
 "nbformat": 4,
 "nbformat_minor": 4
}
